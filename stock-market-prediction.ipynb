{
 "cells": [
  {
   "cell_type": "code",
   "execution_count": 2,
   "id": "ff0ce92d",
   "metadata": {},
   "outputs": [
    {
     "name": "stdout",
     "output_type": "stream",
     "text": [
      "Collecting pandas_datareader\n",
      "  Downloading pandas_datareader-0.10.0-py3-none-any.whl (109 kB)\n",
      "Requirement already satisfied: pandas>=0.23 in c:\\users\\rutvik\\anaconda3\\lib\\site-packages (from pandas_datareader) (1.3.4)\n",
      "Requirement already satisfied: requests>=2.19.0 in c:\\users\\rutvik\\anaconda3\\lib\\site-packages (from pandas_datareader) (2.26.0)\n",
      "Requirement already satisfied: lxml in c:\\users\\rutvik\\anaconda3\\lib\\site-packages (from pandas_datareader) (4.6.3)\n",
      "Requirement already satisfied: python-dateutil>=2.7.3 in c:\\users\\rutvik\\anaconda3\\lib\\site-packages (from pandas>=0.23->pandas_datareader) (2.8.2)\n",
      "Requirement already satisfied: pytz>=2017.3 in c:\\users\\rutvik\\anaconda3\\lib\\site-packages (from pandas>=0.23->pandas_datareader) (2021.3)\n",
      "Requirement already satisfied: numpy>=1.17.3 in c:\\users\\rutvik\\anaconda3\\lib\\site-packages (from pandas>=0.23->pandas_datareader) (1.20.3)\n",
      "Requirement already satisfied: six>=1.5 in c:\\users\\rutvik\\anaconda3\\lib\\site-packages (from python-dateutil>=2.7.3->pandas>=0.23->pandas_datareader) (1.16.0)\n",
      "Requirement already satisfied: charset-normalizer~=2.0.0 in c:\\users\\rutvik\\anaconda3\\lib\\site-packages (from requests>=2.19.0->pandas_datareader) (2.0.4)\n",
      "Requirement already satisfied: idna<4,>=2.5 in c:\\users\\rutvik\\anaconda3\\lib\\site-packages (from requests>=2.19.0->pandas_datareader) (3.2)\n",
      "Requirement already satisfied: urllib3<1.27,>=1.21.1 in c:\\users\\rutvik\\anaconda3\\lib\\site-packages (from requests>=2.19.0->pandas_datareader) (1.26.7)\n",
      "Requirement already satisfied: certifi>=2017.4.17 in c:\\users\\rutvik\\anaconda3\\lib\\site-packages (from requests>=2.19.0->pandas_datareader) (2021.10.8)\n",
      "Installing collected packages: pandas-datareader\n",
      "Successfully installed pandas-datareader-0.10.0\n"
     ]
    }
   ],
   "source": [
    "!pip install pandas_datareader"
   ]
  },
  {
   "cell_type": "code",
   "execution_count": 3,
   "id": "2734f97f",
   "metadata": {},
   "outputs": [],
   "source": [
    "import pandas_datareader as pdr"
   ]
  },
  {
   "cell_type": "code",
   "execution_count": 5,
   "id": "aae49ac0",
   "metadata": {},
   "outputs": [
    {
     "name": "stderr",
     "output_type": "stream",
     "text": [
      "C:\\Users\\Rutvik\\anaconda3\\lib\\site-packages\\pandas_datareader\\tiingo.py:234: FutureWarning: In a future version of pandas all arguments of concat except for the argument 'objs' will be keyword-only\n",
      "  return pd.concat(dfs, self._concat_axis)\n"
     ]
    }
   ],
   "source": [
    "df=pdr.get_data_tiingo('AAPL',api_key='44999a3fe770c437c365bee84c364d211d622c8d')"
   ]
  },
  {
   "cell_type": "code",
   "execution_count": 6,
   "id": "fc6d130c",
   "metadata": {},
   "outputs": [],
   "source": [
    "df.to_csv(\"AAPL.csv\")"
   ]
  },
  {
   "cell_type": "code",
   "execution_count": 7,
   "id": "fc8b1b19",
   "metadata": {},
   "outputs": [],
   "source": [
    "import pandas as pd"
   ]
  },
  {
   "cell_type": "code",
   "execution_count": 8,
   "id": "9456ee7f",
   "metadata": {},
   "outputs": [],
   "source": [
    "df=pd.read_csv(\"AAPL.csv\")"
   ]
  },
  {
   "cell_type": "code",
   "execution_count": 9,
   "id": "061f019b",
   "metadata": {},
   "outputs": [
    {
     "data": {
      "text/html": [
       "<div>\n",
       "<style scoped>\n",
       "    .dataframe tbody tr th:only-of-type {\n",
       "        vertical-align: middle;\n",
       "    }\n",
       "\n",
       "    .dataframe tbody tr th {\n",
       "        vertical-align: top;\n",
       "    }\n",
       "\n",
       "    .dataframe thead th {\n",
       "        text-align: right;\n",
       "    }\n",
       "</style>\n",
       "<table border=\"1\" class=\"dataframe\">\n",
       "  <thead>\n",
       "    <tr style=\"text-align: right;\">\n",
       "      <th></th>\n",
       "      <th>symbol</th>\n",
       "      <th>date</th>\n",
       "      <th>close</th>\n",
       "      <th>high</th>\n",
       "      <th>low</th>\n",
       "      <th>open</th>\n",
       "      <th>volume</th>\n",
       "      <th>adjClose</th>\n",
       "      <th>adjHigh</th>\n",
       "      <th>adjLow</th>\n",
       "      <th>adjOpen</th>\n",
       "      <th>adjVolume</th>\n",
       "      <th>divCash</th>\n",
       "      <th>splitFactor</th>\n",
       "    </tr>\n",
       "  </thead>\n",
       "  <tbody>\n",
       "    <tr>\n",
       "      <th>0</th>\n",
       "      <td>AAPL</td>\n",
       "      <td>2017-02-06 00:00:00+00:00</td>\n",
       "      <td>130.29</td>\n",
       "      <td>130.500</td>\n",
       "      <td>128.90</td>\n",
       "      <td>129.13</td>\n",
       "      <td>26845924</td>\n",
       "      <td>30.656220</td>\n",
       "      <td>30.705632</td>\n",
       "      <td>30.329164</td>\n",
       "      <td>30.383281</td>\n",
       "      <td>107383696</td>\n",
       "      <td>0.00</td>\n",
       "      <td>1.0</td>\n",
       "    </tr>\n",
       "    <tr>\n",
       "      <th>1</th>\n",
       "      <td>AAPL</td>\n",
       "      <td>2017-02-07 00:00:00+00:00</td>\n",
       "      <td>131.53</td>\n",
       "      <td>132.090</td>\n",
       "      <td>130.45</td>\n",
       "      <td>130.54</td>\n",
       "      <td>38183841</td>\n",
       "      <td>30.947983</td>\n",
       "      <td>31.079746</td>\n",
       "      <td>30.693867</td>\n",
       "      <td>30.715043</td>\n",
       "      <td>152735364</td>\n",
       "      <td>0.00</td>\n",
       "      <td>1.0</td>\n",
       "    </tr>\n",
       "    <tr>\n",
       "      <th>2</th>\n",
       "      <td>AAPL</td>\n",
       "      <td>2017-02-08 00:00:00+00:00</td>\n",
       "      <td>132.04</td>\n",
       "      <td>132.220</td>\n",
       "      <td>131.22</td>\n",
       "      <td>131.35</td>\n",
       "      <td>23004072</td>\n",
       "      <td>31.067982</td>\n",
       "      <td>31.110334</td>\n",
       "      <td>30.875042</td>\n",
       "      <td>30.905630</td>\n",
       "      <td>92016288</td>\n",
       "      <td>0.00</td>\n",
       "      <td>1.0</td>\n",
       "    </tr>\n",
       "    <tr>\n",
       "      <th>3</th>\n",
       "      <td>AAPL</td>\n",
       "      <td>2017-02-09 00:00:00+00:00</td>\n",
       "      <td>132.42</td>\n",
       "      <td>132.445</td>\n",
       "      <td>131.12</td>\n",
       "      <td>131.65</td>\n",
       "      <td>28349859</td>\n",
       "      <td>31.291509</td>\n",
       "      <td>31.297417</td>\n",
       "      <td>30.984313</td>\n",
       "      <td>31.109554</td>\n",
       "      <td>113399436</td>\n",
       "      <td>0.57</td>\n",
       "      <td>1.0</td>\n",
       "    </tr>\n",
       "    <tr>\n",
       "      <th>4</th>\n",
       "      <td>AAPL</td>\n",
       "      <td>2017-02-10 00:00:00+00:00</td>\n",
       "      <td>132.12</td>\n",
       "      <td>132.940</td>\n",
       "      <td>132.05</td>\n",
       "      <td>132.46</td>\n",
       "      <td>20065458</td>\n",
       "      <td>31.220618</td>\n",
       "      <td>31.414388</td>\n",
       "      <td>31.204076</td>\n",
       "      <td>31.300961</td>\n",
       "      <td>80261832</td>\n",
       "      <td>0.00</td>\n",
       "      <td>1.0</td>\n",
       "    </tr>\n",
       "  </tbody>\n",
       "</table>\n",
       "</div>"
      ],
      "text/plain": [
       "  symbol                       date   close     high     low    open  \\\n",
       "0   AAPL  2017-02-06 00:00:00+00:00  130.29  130.500  128.90  129.13   \n",
       "1   AAPL  2017-02-07 00:00:00+00:00  131.53  132.090  130.45  130.54   \n",
       "2   AAPL  2017-02-08 00:00:00+00:00  132.04  132.220  131.22  131.35   \n",
       "3   AAPL  2017-02-09 00:00:00+00:00  132.42  132.445  131.12  131.65   \n",
       "4   AAPL  2017-02-10 00:00:00+00:00  132.12  132.940  132.05  132.46   \n",
       "\n",
       "     volume   adjClose    adjHigh     adjLow    adjOpen  adjVolume  divCash  \\\n",
       "0  26845924  30.656220  30.705632  30.329164  30.383281  107383696     0.00   \n",
       "1  38183841  30.947983  31.079746  30.693867  30.715043  152735364     0.00   \n",
       "2  23004072  31.067982  31.110334  30.875042  30.905630   92016288     0.00   \n",
       "3  28349859  31.291509  31.297417  30.984313  31.109554  113399436     0.57   \n",
       "4  20065458  31.220618  31.414388  31.204076  31.300961   80261832     0.00   \n",
       "\n",
       "   splitFactor  \n",
       "0          1.0  \n",
       "1          1.0  \n",
       "2          1.0  \n",
       "3          1.0  \n",
       "4          1.0  "
      ]
     },
     "execution_count": 9,
     "metadata": {},
     "output_type": "execute_result"
    }
   ],
   "source": [
    "df.head()"
   ]
  },
  {
   "cell_type": "code",
   "execution_count": 10,
   "id": "ee00bb85",
   "metadata": {},
   "outputs": [
    {
     "data": {
      "text/plain": [
       "(1259, 14)"
      ]
     },
     "execution_count": 10,
     "metadata": {},
     "output_type": "execute_result"
    }
   ],
   "source": [
    "df.shape"
   ]
  },
  {
   "cell_type": "code",
   "execution_count": 17,
   "id": "b3a6595c",
   "metadata": {},
   "outputs": [],
   "source": [
    "df1=df.reset_index()[\"close\"]"
   ]
  },
  {
   "cell_type": "code",
   "execution_count": 19,
   "id": "5180cb07",
   "metadata": {},
   "outputs": [
    {
     "data": {
      "text/plain": [
       "0    130.29\n",
       "1    131.53\n",
       "2    132.04\n",
       "3    132.42\n",
       "4    132.12\n",
       "Name: close, dtype: float64"
      ]
     },
     "execution_count": 19,
     "metadata": {},
     "output_type": "execute_result"
    }
   ],
   "source": [
    "df1.head()"
   ]
  },
  {
   "cell_type": "code",
   "execution_count": 20,
   "id": "ba0ee1c8",
   "metadata": {},
   "outputs": [],
   "source": [
    "import matplotlib.pyplot as plt"
   ]
  },
  {
   "cell_type": "code",
   "execution_count": 21,
   "id": "70d37dcf",
   "metadata": {},
   "outputs": [
    {
     "data": {
      "text/plain": [
       "[<matplotlib.lines.Line2D at 0x27320735b50>]"
      ]
     },
     "execution_count": 21,
     "metadata": {},
     "output_type": "execute_result"
    },
    {
     "data": {
      "image/png": "[encoded data removed]",
      "text/plain": [
       "<Figure size 432x288 with 1 Axes>"
      ]
     },
     "metadata": {
      "needs_background": "light"
     },
     "output_type": "display_data"
    }
   ],
   "source": [
    "plt.plot(df1)"
   ]
  },
  {
   "cell_type": "code",
   "execution_count": 22,
   "id": "243d5bf4",
   "metadata": {},
   "outputs": [],
   "source": [
    "#lstm are sensitive to the scale of the data . so we apply minmax scaler"
   ]
  },
  {
   "cell_type": "code",
   "execution_count": 23,
   "id": "91430a9c",
   "metadata": {},
   "outputs": [],
   "source": [
    "import numpy as np"
   ]
  },
  {
   "cell_type": "code",
   "execution_count": 24,
   "id": "66964f1a",
   "metadata": {},
   "outputs": [],
   "source": [
    "from sklearn.preprocessing import MinMaxScaler\n",
    "scaler=MinMaxScaler(feature_range=(0,1))\n",
    "df1=scaler.fit_transform(np.array(df1).reshape(-1,1))"
   ]
  },
  {
   "cell_type": "code",
   "execution_count": 25,
   "id": "b76df09b",
   "metadata": {},
   "outputs": [
    {
     "data": {
      "text/plain": [
       "(1259, 1)"
      ]
     },
     "execution_count": 25,
     "metadata": {},
     "output_type": "execute_result"
    }
   ],
   "source": [
    "df1.shape"
   ]
  },
  {
   "cell_type": "code",
   "execution_count": 27,
   "id": "0c9ae02f",
   "metadata": {},
   "outputs": [],
   "source": [
    "training_size=int(len(df1)*0.65)\n",
    "test_size=len(df1)-training_size\n",
    "train_data,test_data=df1[0:training_size,:],df1[training_size:len(df1),:]"
   ]
  },
  {
   "cell_type": "code",
   "execution_count": 30,
   "id": "6c4c0491",
   "metadata": {},
   "outputs": [],
   "source": [
    "def create_dataset(dataset,time_step=1):\n",
    "    datax,datay=[],[]\n",
    "    for i in range(len(dataset)-time_step-1):\n",
    "        a=dataset[i:(i+time_step),0]\n",
    "        datax.append(a)\n",
    "        datay.append(dataset[i+time_step,0])\n",
    "    return np.array(datax),np.array(datay)"
   ]
  },
  {
   "cell_type": "code",
   "execution_count": 31,
   "id": "bc5dab07",
   "metadata": {},
   "outputs": [],
   "source": [
    "time_step=100\n",
    "x_train,y_train=create_dataset(train_data,time_step)\n",
    "x_test,y_test=create_dataset(test_data,time_step)"
   ]
  },
  {
   "cell_type": "code",
   "execution_count": 32,
   "id": "472af9f4",
   "metadata": {},
   "outputs": [
    {
     "name": "stdout",
     "output_type": "stream",
     "text": [
      "[[0.05873513 0.06184095 0.06311835 ... 0.09763306 0.09239825 0.09765811]\n",
      " [0.06184095 0.06311835 0.06407013 ... 0.09239825 0.09765811 0.09227301]\n",
      " [0.06311835 0.06407013 0.06331872 ... 0.09765811 0.09227301 0.09312461]\n",
      " ...\n",
      " [0.41044458 0.40095178 0.40485911 ... 0.43015654 0.45307451 0.46827802]\n",
      " [0.40095178 0.40485911 0.41059487 ... 0.45307451 0.46827802 0.45643081]\n",
      " [0.40485911 0.41059487 0.41232311 ... 0.46827802 0.45643081 0.46667502]]\n"
     ]
    }
   ],
   "source": [
    "print(x_train)"
   ]
  },
  {
   "cell_type": "code",
   "execution_count": 33,
   "id": "72a1824b",
   "metadata": {},
   "outputs": [
    {
     "data": {
      "text/plain": [
       "(340, 100)"
      ]
     },
     "execution_count": 33,
     "metadata": {},
     "output_type": "execute_result"
    }
   ],
   "source": [
    "x_test.shape"
   ]
  },
  {
   "cell_type": "code",
   "execution_count": 34,
   "id": "b08de0c3",
   "metadata": {},
   "outputs": [],
   "source": [
    "x_train=x_train.reshape(x_train.shape[0],x_train.shape[1],1)\n",
    "x_test=x_test.reshape(x_test.shape[0],x_test.shape[1],1)"
   ]
  },
  {
   "cell_type": "code",
   "execution_count": 35,
   "id": "a0098a63",
   "metadata": {},
   "outputs": [],
   "source": [
    "from tensorflow.keras.models import Sequential\n",
    "from tensorflow.keras.layers import Dense\n",
    "from tensorflow.keras.layers import LSTM"
   ]
  },
  {
   "cell_type": "code",
   "execution_count": 37,
   "id": "29e554e7",
   "metadata": {},
   "outputs": [],
   "source": [
    "model=Sequential()\n",
    "model.add(LSTM(50,return_sequences=True,input_shape=(100,1)))\n",
    "model.add(LSTM(50,return_sequences=True))\n",
    "model.add(LSTM(50))\n",
    "model.add(Dense(1))\n",
    "model.compile(loss=\"mean_squared_error\",optimizer='adam')"
   ]
  },
  {
   "cell_type": "code",
   "execution_count": 38,
   "id": "fbff56ca",
   "metadata": {},
   "outputs": [
    {
     "name": "stdout",
     "output_type": "stream",
     "text": [
      "Model: \"sequential_1\"\n",
      "_________________________________________________________________\n",
      " Layer (type)                Output Shape              Param #   \n",
      "=================================================================\n",
      " lstm (LSTM)                 (None, 100, 50)           10400     \n",
      "                                                                 \n",
      " lstm_1 (LSTM)               (None, 100, 50)           20200     \n",
      "                                                                 \n",
      " lstm_2 (LSTM)               (None, 50)                20200     \n",
      "                                                                 \n",
      " dense (Dense)               (None, 1)                 51        \n",
      "                                                                 \n",
      "=================================================================\n",
      "Total params: 50,851\n",
      "Trainable params: 50,851\n",
      "Non-trainable params: 0\n",
      "_________________________________________________________________\n"
     ]
    }
   ],
   "source": [
    "model.summary()"
   ]
  },
  {
   "cell_type": "code",
   "execution_count": 39,
   "id": "8aae3788",
   "metadata": {},
   "outputs": [
    {
     "name": "stdout",
     "output_type": "stream",
     "text": [
      "Epoch 1/100\n",
      "12/12 [==============================] - 11s 344ms/step - loss: 0.0173 - val_loss: 0.0023\n",
      "Epoch 2/100\n",
      "12/12 [==============================] - 3s 222ms/step - loss: 0.0036 - val_loss: 0.0064\n",
      "Epoch 3/100\n",
      "12/12 [==============================] - 3s 222ms/step - loss: 0.0021 - val_loss: 0.0011\n",
      "Epoch 4/100\n",
      "12/12 [==============================] - 3s 222ms/step - loss: 0.0011 - val_loss: 4.3685e-04\n",
      "Epoch 5/100\n",
      "12/12 [==============================] - 3s 222ms/step - loss: 9.6183e-04 - val_loss: 3.9317e-04\n",
      "Epoch 6/100\n",
      "12/12 [==============================] - 3s 222ms/step - loss: 9.6443e-04 - val_loss: 4.1071e-04\n",
      "Epoch 7/100\n",
      "12/12 [==============================] - 3s 217ms/step - loss: 9.0475e-04 - val_loss: 6.0186e-04\n",
      "Epoch 8/100\n",
      "12/12 [==============================] - 3s 211ms/step - loss: 8.9274e-04 - val_loss: 3.1687e-04\n",
      "Epoch 9/100\n",
      "12/12 [==============================] - 3s 211ms/step - loss: 8.5341e-04 - val_loss: 3.6914e-04\n",
      "Epoch 10/100\n",
      "12/12 [==============================] - 2s 211ms/step - loss: 7.7523e-04 - val_loss: 3.4274e-04\n",
      "Epoch 11/100\n",
      "12/12 [==============================] - 3s 211ms/step - loss: 7.1937e-04 - val_loss: 2.3014e-04\n",
      "Epoch 12/100\n",
      "12/12 [==============================] - 3s 210ms/step - loss: 6.7285e-04 - val_loss: 2.2935e-04\n",
      "Epoch 13/100\n",
      "12/12 [==============================] - 3s 212ms/step - loss: 6.4115e-04 - val_loss: 2.9270e-04\n",
      "Epoch 14/100\n",
      "12/12 [==============================] - 3s 212ms/step - loss: 5.9775e-04 - val_loss: 3.1941e-04\n",
      "Epoch 15/100\n",
      "12/12 [==============================] - 3s 210ms/step - loss: 5.4094e-04 - val_loss: 4.5457e-04\n",
      "Epoch 16/100\n",
      "12/12 [==============================] - 3s 211ms/step - loss: 5.2752e-04 - val_loss: 4.9375e-04\n",
      "Epoch 17/100\n",
      "12/12 [==============================] - 3s 211ms/step - loss: 4.9152e-04 - val_loss: 5.1112e-04\n",
      "Epoch 18/100\n",
      "12/12 [==============================] - 2s 211ms/step - loss: 4.6650e-04 - val_loss: 4.5079e-04\n",
      "Epoch 19/100\n",
      "12/12 [==============================] - 3s 211ms/step - loss: 4.7517e-04 - val_loss: 4.0696e-04\n",
      "Epoch 20/100\n",
      "12/12 [==============================] - 3s 212ms/step - loss: 4.9786e-04 - val_loss: 3.7032e-04\n",
      "Epoch 21/100\n",
      "12/12 [==============================] - 3s 212ms/step - loss: 4.9527e-04 - val_loss: 3.0650e-04\n",
      "Epoch 22/100\n",
      "12/12 [==============================] - 2s 211ms/step - loss: 4.3770e-04 - val_loss: 3.2518e-04\n",
      "Epoch 23/100\n",
      "12/12 [==============================] - 3s 211ms/step - loss: 4.3567e-04 - val_loss: 2.7708e-04\n",
      "Epoch 24/100\n",
      "12/12 [==============================] - 2s 209ms/step - loss: 4.3394e-04 - val_loss: 2.5674e-04\n",
      "Epoch 25/100\n",
      "12/12 [==============================] - 2s 211ms/step - loss: 4.5322e-04 - val_loss: 2.3563e-04\n",
      "Epoch 26/100\n",
      "12/12 [==============================] - 3s 211ms/step - loss: 4.0077e-04 - val_loss: 2.5112e-04\n",
      "Epoch 27/100\n",
      "12/12 [==============================] - 3s 213ms/step - loss: 3.9508e-04 - val_loss: 2.2824e-04\n",
      "Epoch 28/100\n",
      "12/12 [==============================] - 3s 214ms/step - loss: 4.2235e-04 - val_loss: 1.9748e-04\n",
      "Epoch 29/100\n",
      "12/12 [==============================] - 2s 211ms/step - loss: 4.0476e-04 - val_loss: 2.1228e-04\n",
      "Epoch 30/100\n",
      "12/12 [==============================] - 3s 228ms/step - loss: 4.0279e-04 - val_loss: 1.9618e-04\n",
      "Epoch 31/100\n",
      "12/12 [==============================] - 3s 227ms/step - loss: 3.7764e-04 - val_loss: 1.8726e-04\n",
      "Epoch 32/100\n",
      "12/12 [==============================] - 3s 217ms/step - loss: 3.6937e-04 - val_loss: 1.8043e-04\n",
      "Epoch 33/100\n",
      "12/12 [==============================] - 3s 225ms/step - loss: 3.8622e-04 - val_loss: 2.0783e-04\n",
      "Epoch 34/100\n",
      "12/12 [==============================] - 3s 214ms/step - loss: 3.8142e-04 - val_loss: 1.8595e-04\n",
      "Epoch 35/100\n",
      "12/12 [==============================] - 3s 212ms/step - loss: 4.1094e-04 - val_loss: 2.0132e-04\n",
      "Epoch 36/100\n",
      "12/12 [==============================] - 3s 212ms/step - loss: 4.2768e-04 - val_loss: 1.8775e-04\n",
      "Epoch 37/100\n",
      "12/12 [==============================] - 3s 214ms/step - loss: 3.8594e-04 - val_loss: 1.7091e-04\n",
      "Epoch 38/100\n",
      "12/12 [==============================] - 3s 212ms/step - loss: 4.0600e-04 - val_loss: 1.6736e-04\n",
      "Epoch 39/100\n",
      "12/12 [==============================] - 3s 212ms/step - loss: 4.1355e-04 - val_loss: 2.0399e-04\n",
      "Epoch 40/100\n",
      "12/12 [==============================] - 3s 212ms/step - loss: 3.7183e-04 - val_loss: 1.7708e-04\n",
      "Epoch 41/100\n",
      "12/12 [==============================] - 3s 212ms/step - loss: 3.8820e-04 - val_loss: 1.6880e-04\n",
      "Epoch 42/100\n",
      "12/12 [==============================] - 3s 212ms/step - loss: 3.8300e-04 - val_loss: 1.5852e-04\n",
      "Epoch 43/100\n",
      "12/12 [==============================] - 3s 212ms/step - loss: 3.7083e-04 - val_loss: 2.7295e-04\n",
      "Epoch 44/100\n",
      "12/12 [==============================] - 3s 211ms/step - loss: 4.2014e-04 - val_loss: 1.6065e-04\n",
      "Epoch 45/100\n",
      "12/12 [==============================] - 2s 211ms/step - loss: 3.8904e-04 - val_loss: 2.2566e-04\n",
      "Epoch 46/100\n",
      "12/12 [==============================] - 3s 212ms/step - loss: 3.7955e-04 - val_loss: 1.5781e-04\n",
      "Epoch 47/100\n",
      "12/12 [==============================] - 3s 210ms/step - loss: 3.4970e-04 - val_loss: 1.6235e-04\n",
      "Epoch 48/100\n",
      "12/12 [==============================] - 2s 211ms/step - loss: 3.6599e-04 - val_loss: 1.5932e-04\n",
      "Epoch 49/100\n",
      "12/12 [==============================] - 3s 212ms/step - loss: 3.7422e-04 - val_loss: 1.6701e-04\n",
      "Epoch 50/100\n",
      "12/12 [==============================] - 3s 212ms/step - loss: 3.4344e-04 - val_loss: 1.7258e-04\n",
      "Epoch 51/100\n",
      "12/12 [==============================] - 3s 211ms/step - loss: 3.4798e-04 - val_loss: 1.7362e-04\n",
      "Epoch 52/100\n",
      "12/12 [==============================] - 3s 211ms/step - loss: 3.6250e-04 - val_loss: 1.5606e-04\n",
      "Epoch 53/100\n",
      "12/12 [==============================] - 3s 211ms/step - loss: 3.5136e-04 - val_loss: 1.6736e-04\n",
      "Epoch 54/100\n",
      "12/12 [==============================] - 3s 212ms/step - loss: 3.6741e-04 - val_loss: 1.6739e-04\n",
      "Epoch 55/100\n",
      "12/12 [==============================] - 3s 212ms/step - loss: 3.3343e-04 - val_loss: 2.0763e-04\n",
      "Epoch 56/100\n",
      "12/12 [==============================] - 3s 212ms/step - loss: 3.3659e-04 - val_loss: 1.5016e-04\n",
      "Epoch 57/100\n",
      "12/12 [==============================] - 3s 212ms/step - loss: 3.2564e-04 - val_loss: 1.5687e-04\n",
      "Epoch 58/100\n",
      "12/12 [==============================] - 2s 211ms/step - loss: 3.4314e-04 - val_loss: 2.2614e-04\n",
      "Epoch 59/100\n",
      "12/12 [==============================] - 3s 212ms/step - loss: 3.6280e-04 - val_loss: 1.6406e-04\n",
      "Epoch 60/100\n",
      "12/12 [==============================] - 3s 212ms/step - loss: 3.6841e-04 - val_loss: 3.0080e-04\n",
      "Epoch 61/100\n",
      "12/12 [==============================] - 3s 213ms/step - loss: 3.8570e-04 - val_loss: 1.4785e-04\n",
      "Epoch 62/100\n",
      "12/12 [==============================] - 3s 215ms/step - loss: 3.2739e-04 - val_loss: 1.6573e-04\n",
      "Epoch 63/100\n",
      "12/12 [==============================] - 3s 211ms/step - loss: 3.2131e-04 - val_loss: 1.6903e-04\n",
      "Epoch 64/100\n",
      "12/12 [==============================] - 3s 214ms/step - loss: 3.2646e-04 - val_loss: 1.5674e-04\n",
      "Epoch 65/100\n",
      "12/12 [==============================] - 3s 212ms/step - loss: 4.3335e-04 - val_loss: 2.0594e-04\n",
      "Epoch 66/100\n",
      "12/12 [==============================] - 3s 212ms/step - loss: 3.3014e-04 - val_loss: 1.4852e-04\n",
      "Epoch 67/100\n",
      "12/12 [==============================] - 3s 217ms/step - loss: 3.3080e-04 - val_loss: 1.6521e-04\n",
      "Epoch 68/100\n",
      "12/12 [==============================] - 3s 221ms/step - loss: 3.6835e-04 - val_loss: 1.4778e-04\n",
      "Epoch 69/100\n",
      "12/12 [==============================] - 2s 211ms/step - loss: 3.8874e-04 - val_loss: 1.6246e-04\n",
      "Epoch 70/100\n",
      "12/12 [==============================] - 2s 211ms/step - loss: 3.0432e-04 - val_loss: 1.8859e-04\n",
      "Epoch 71/100\n",
      "12/12 [==============================] - 2s 210ms/step - loss: 3.4456e-04 - val_loss: 1.4725e-04\n",
      "Epoch 72/100\n",
      "12/12 [==============================] - 2s 209ms/step - loss: 3.1344e-04 - val_loss: 1.5376e-04\n",
      "Epoch 73/100\n",
      "12/12 [==============================] - 3s 210ms/step - loss: 3.2802e-04 - val_loss: 1.7039e-04\n",
      "Epoch 74/100\n",
      "12/12 [==============================] - 3s 218ms/step - loss: 3.0795e-04 - val_loss: 1.4498e-04\n",
      "Epoch 75/100\n",
      "12/12 [==============================] - 3s 219ms/step - loss: 3.6317e-04 - val_loss: 2.0708e-04\n"
     ]
    },
    {
     "name": "stdout",
     "output_type": "stream",
     "text": [
      "Epoch 76/100\n",
      "12/12 [==============================] - 3s 212ms/step - loss: 3.4905e-04 - val_loss: 1.6454e-04\n",
      "Epoch 77/100\n",
      "12/12 [==============================] - 2s 209ms/step - loss: 3.2478e-04 - val_loss: 1.5414e-04\n",
      "Epoch 78/100\n",
      "12/12 [==============================] - 3s 210ms/step - loss: 2.9422e-04 - val_loss: 1.3888e-04\n",
      "Epoch 79/100\n",
      "12/12 [==============================] - 2s 209ms/step - loss: 2.9713e-04 - val_loss: 1.9657e-04\n",
      "Epoch 80/100\n",
      "12/12 [==============================] - 2s 209ms/step - loss: 3.1035e-04 - val_loss: 1.3135e-04\n",
      "Epoch 81/100\n",
      "12/12 [==============================] - 2s 208ms/step - loss: 2.9783e-04 - val_loss: 1.5589e-04\n",
      "Epoch 82/100\n",
      "12/12 [==============================] - 2s 209ms/step - loss: 2.8213e-04 - val_loss: 1.3922e-04\n",
      "Epoch 83/100\n",
      "12/12 [==============================] - 2s 208ms/step - loss: 2.9595e-04 - val_loss: 1.8318e-04\n",
      "Epoch 84/100\n",
      "12/12 [==============================] - 2s 209ms/step - loss: 3.2481e-04 - val_loss: 1.3910e-04\n",
      "Epoch 85/100\n",
      "12/12 [==============================] - 2s 211ms/step - loss: 2.9470e-04 - val_loss: 1.3853e-04\n",
      "Epoch 86/100\n",
      "12/12 [==============================] - 2s 209ms/step - loss: 3.2631e-04 - val_loss: 2.4856e-04\n",
      "Epoch 87/100\n",
      "12/12 [==============================] - 2s 209ms/step - loss: 3.5604e-04 - val_loss: 1.4111e-04\n",
      "Epoch 88/100\n",
      "12/12 [==============================] - 2s 209ms/step - loss: 3.3329e-04 - val_loss: 1.8354e-04\n",
      "Epoch 89/100\n",
      "12/12 [==============================] - 2s 209ms/step - loss: 2.9563e-04 - val_loss: 1.2673e-04\n",
      "Epoch 90/100\n",
      "12/12 [==============================] - 2s 211ms/step - loss: 2.7627e-04 - val_loss: 1.7330e-04\n",
      "Epoch 91/100\n",
      "12/12 [==============================] - 2s 211ms/step - loss: 2.9101e-04 - val_loss: 1.2796e-04\n",
      "Epoch 92/100\n",
      "12/12 [==============================] - 2s 209ms/step - loss: 3.0109e-04 - val_loss: 1.4624e-04\n",
      "Epoch 93/100\n",
      "12/12 [==============================] - 2s 208ms/step - loss: 2.7069e-04 - val_loss: 1.3223e-04\n",
      "Epoch 94/100\n",
      "12/12 [==============================] - 2s 208ms/step - loss: 2.8449e-04 - val_loss: 1.7184e-04\n",
      "Epoch 95/100\n",
      "12/12 [==============================] - 2s 209ms/step - loss: 2.7850e-04 - val_loss: 1.2509e-04\n",
      "Epoch 96/100\n",
      "12/12 [==============================] - 2s 208ms/step - loss: 2.7526e-04 - val_loss: 1.4235e-04\n",
      "Epoch 97/100\n",
      "12/12 [==============================] - 2s 209ms/step - loss: 2.7182e-04 - val_loss: 1.2195e-04\n",
      "Epoch 98/100\n",
      "12/12 [==============================] - 2s 211ms/step - loss: 2.6664e-04 - val_loss: 1.2609e-04\n",
      "Epoch 99/100\n",
      "12/12 [==============================] - 2s 207ms/step - loss: 2.5387e-04 - val_loss: 1.3004e-04\n",
      "Epoch 100/100\n",
      "12/12 [==============================] - 2s 208ms/step - loss: 2.5685e-04 - val_loss: 1.2499e-04\n"
     ]
    },
    {
     "data": {
      "text/plain": [
       "<keras.callbacks.History at 0x2732ac5bbe0>"
      ]
     },
     "execution_count": 39,
     "metadata": {},
     "output_type": "execute_result"
    }
   ],
   "source": [
    "model.fit(x_train,y_train,validation_data=(x_test,y_test),epochs=100,batch_size=64,verbose=1)"
   ]
  },
  {
   "cell_type": "code",
   "execution_count": 41,
   "id": "53556d68",
   "metadata": {},
   "outputs": [],
   "source": [
    "### Lets Do the prediction and check performance metrics\n",
    "train_predict=model.predict(x_train)\n",
    "test_predict=model.predict(x_test)"
   ]
  },
  {
   "cell_type": "code",
   "execution_count": 43,
   "id": "04c118cf",
   "metadata": {},
   "outputs": [],
   "source": [
    "train_predict=scaler.inverse_transform(train_predict)\n",
    "test_predict=scaler.inverse_transform(test_predict)"
   ]
  },
  {
   "cell_type": "code",
   "execution_count": 45,
   "id": "1d912771",
   "metadata": {},
   "outputs": [
    {
     "data": {
      "text/plain": [
       "203.79772134406062"
      ]
     },
     "execution_count": 45,
     "metadata": {},
     "output_type": "execute_result"
    }
   ],
   "source": [
    "### Calculate RMSE performance metrics\n",
    "import math\n",
    "from sklearn.metrics import mean_squared_error\n",
    "math.sqrt(mean_squared_error(y_train,train_predict))"
   ]
  },
  {
   "cell_type": "code",
   "execution_count": 47,
   "id": "3749d544",
   "metadata": {},
   "outputs": [
    {
     "data": {
      "text/plain": [
       "139.5808954378707"
      ]
     },
     "execution_count": 47,
     "metadata": {},
     "output_type": "execute_result"
    }
   ],
   "source": [
    "### Test Data RMSE\n",
    "math.sqrt(mean_squared_error(y_test,test_predict))"
   ]
  },
  {
   "cell_type": "code",
   "execution_count": 49,
   "id": "a2a03344",
   "metadata": {},
   "outputs": [
    {
     "data": {
      "image/png": "[encoded data removed]",
      "text/plain": [
       "<Figure size 432x288 with 1 Axes>"
      ]
     },
     "metadata": {
      "needs_background": "light"
     },
     "output_type": "display_data"
    }
   ],
   "source": [
    "import numpy\n",
    "### Plotting \n",
    "# shift train predictions for plotting\n",
    "look_back=100\n",
    "trainPredictPlot = numpy.empty_like(df1)\n",
    "trainPredictPlot[:, :] = np.nan\n",
    "trainPredictPlot[look_back:len(train_predict)+look_back, :] = train_predict\n",
    "# shift test predictions for plotting\n",
    "testPredictPlot = numpy.empty_like(df1)\n",
    "testPredictPlot[:, :] = numpy.nan\n",
    "testPredictPlot[len(train_predict)+(look_back*2)+1:len(df1)-1, :] = test_predict\n",
    "# plot baseline and predictions\n",
    "plt.plot(scaler.inverse_transform(df1))\n",
    "plt.plot(trainPredictPlot)\n",
    "plt.plot(testPredictPlot)\n",
    "plt.show()"
   ]
  },
  {
   "cell_type": "code",
   "execution_count": 50,
   "id": "577c082f",
   "metadata": {},
   "outputs": [
    {
     "data": {
      "text/plain": [
       "(1, 100)"
      ]
     },
     "execution_count": 50,
     "metadata": {},
     "output_type": "execute_result"
    }
   ],
   "source": [
    "x_input=test_data[341:].reshape(1,-1)\n",
    "x_input.shape"
   ]
  },
  {
   "cell_type": "code",
   "execution_count": 51,
   "id": "b575c65e",
   "metadata": {},
   "outputs": [],
   "source": [
    "temp_input=list(x_input)\n",
    "temp_input=temp_input[0].tolist()"
   ]
  },
  {
   "cell_type": "code",
   "execution_count": 52,
   "id": "231fc200",
   "metadata": {},
   "outputs": [
    {
     "name": "stdout",
     "output_type": "stream",
     "text": [
      "[0.1529104]\n",
      "101\n",
      "1 day input [0.10567314 0.10507201 0.09823419 0.09041954 0.09164684 0.0977082\n",
      " 0.10016281 0.10038823 0.09650595 0.0878397  0.09014402 0.08681277\n",
      " 0.08969317 0.08090169 0.08583594 0.08806512 0.09129618 0.09031935\n",
      " 0.09009393 0.08683782 0.085335   0.09247339 0.09517846 0.09946149\n",
      " 0.10499687 0.10624922 0.10680025 0.10482154 0.10469631 0.1063995\n",
      " 0.10522229 0.11453976 0.10760175 0.10549781 0.10815279 0.11183469\n",
      " 0.1105072  0.1113087  0.10920476 0.1101315  0.10289292 0.10276769\n",
      " 0.10807765 0.10810269 0.11060739 0.11684408 0.12781465 0.13452724\n",
      " 0.13570445 0.13668128 0.13800877 0.12515967 0.13375078 0.14642455\n",
      " 0.14509706 0.14256731 0.1377583  0.14647464 0.16115216 0.17092048\n",
      " 0.16961803 0.181866   0.17257358 0.16904195 0.18149029 0.16385723\n",
      " 0.16105197 0.15757044 0.16568566 0.17232311 0.17392611 0.18407013\n",
      " 0.18146525 0.18169067 0.17873513 0.17715717 0.18827802 0.18249217\n",
      " 0.17051972 0.16320601 0.16363181 0.1636819  0.17092048 0.17204759\n",
      " 0.1636819  0.16588604 0.15769568 0.14875391 0.14444584 0.13918597\n",
      " 0.13720726 0.13259862 0.1323732  0.13119599 0.15902317 0.17016907\n",
      " 0.16974327 0.17282405 0.16546024 0.1529104 ]\n",
      "1 day output [[0.1564076]]\n",
      "2 day input [0.10507201 0.09823419 0.09041954 0.09164684 0.0977082  0.10016281\n",
      " 0.10038823 0.09650595 0.0878397  0.09014402 0.08681277 0.08969317\n",
      " 0.08090169 0.08583594 0.08806512 0.09129618 0.09031935 0.09009393\n",
      " 0.08683782 0.085335   0.09247339 0.09517846 0.09946149 0.10499687\n",
      " 0.10624922 0.10680025 0.10482154 0.10469631 0.1063995  0.10522229\n",
      " 0.11453976 0.10760175 0.10549781 0.10815279 0.11183469 0.1105072\n",
      " 0.1113087  0.10920476 0.1101315  0.10289292 0.10276769 0.10807765\n",
      " 0.10810269 0.11060739 0.11684408 0.12781465 0.13452724 0.13570445\n",
      " 0.13668128 0.13800877 0.12515967 0.13375078 0.14642455 0.14509706\n",
      " 0.14256731 0.1377583  0.14647464 0.16115216 0.17092048 0.16961803\n",
      " 0.181866   0.17257358 0.16904195 0.18149029 0.16385723 0.16105197\n",
      " 0.15757044 0.16568566 0.17232311 0.17392611 0.18407013 0.18146525\n",
      " 0.18169067 0.17873513 0.17715717 0.18827802 0.18249217 0.17051972\n",
      " 0.16320601 0.16363181 0.1636819  0.17092048 0.17204759 0.1636819\n",
      " 0.16588604 0.15769568 0.14875391 0.14444584 0.13918597 0.13720726\n",
      " 0.13259862 0.1323732  0.13119599 0.15902317 0.17016907 0.16974327\n",
      " 0.17282405 0.16546024 0.1529104  0.15640759]\n",
      "2 day output [[0.15812883]]\n",
      "3 day input [0.09823419 0.09041954 0.09164684 0.0977082  0.10016281 0.10038823\n",
      " 0.09650595 0.0878397  0.09014402 0.08681277 0.08969317 0.08090169\n",
      " 0.08583594 0.08806512 0.09129618 0.09031935 0.09009393 0.08683782\n",
      " 0.085335   0.09247339 0.09517846 0.09946149 0.10499687 0.10624922\n",
      " 0.10680025 0.10482154 0.10469631 0.1063995  0.10522229 0.11453976\n",
      " 0.10760175 0.10549781 0.10815279 0.11183469 0.1105072  0.1113087\n",
      " 0.10920476 0.1101315  0.10289292 0.10276769 0.10807765 0.10810269\n",
      " 0.11060739 0.11684408 0.12781465 0.13452724 0.13570445 0.13668128\n",
      " 0.13800877 0.12515967 0.13375078 0.14642455 0.14509706 0.14256731\n",
      " 0.1377583  0.14647464 0.16115216 0.17092048 0.16961803 0.181866\n",
      " 0.17257358 0.16904195 0.18149029 0.16385723 0.16105197 0.15757044\n",
      " 0.16568566 0.17232311 0.17392611 0.18407013 0.18146525 0.18169067\n",
      " 0.17873513 0.17715717 0.18827802 0.18249217 0.17051972 0.16320601\n",
      " 0.16363181 0.1636819  0.17092048 0.17204759 0.1636819  0.16588604\n",
      " 0.15769568 0.14875391 0.14444584 0.13918597 0.13720726 0.13259862\n",
      " 0.1323732  0.13119599 0.15902317 0.17016907 0.16974327 0.17282405\n",
      " 0.16546024 0.1529104  0.15640759 0.15812883]\n",
      "3 day output [[0.15865181]]\n",
      "4 day input [0.09041954 0.09164684 0.0977082  0.10016281 0.10038823 0.09650595\n",
      " 0.0878397  0.09014402 0.08681277 0.08969317 0.08090169 0.08583594\n",
      " 0.08806512 0.09129618 0.09031935 0.09009393 0.08683782 0.085335\n",
      " 0.09247339 0.09517846 0.09946149 0.10499687 0.10624922 0.10680025\n",
      " 0.10482154 0.10469631 0.1063995  0.10522229 0.11453976 0.10760175\n",
      " 0.10549781 0.10815279 0.11183469 0.1105072  0.1113087  0.10920476\n",
      " 0.1101315  0.10289292 0.10276769 0.10807765 0.10810269 0.11060739\n",
      " 0.11684408 0.12781465 0.13452724 0.13570445 0.13668128 0.13800877\n",
      " 0.12515967 0.13375078 0.14642455 0.14509706 0.14256731 0.1377583\n",
      " 0.14647464 0.16115216 0.17092048 0.16961803 0.181866   0.17257358\n",
      " 0.16904195 0.18149029 0.16385723 0.16105197 0.15757044 0.16568566\n",
      " 0.17232311 0.17392611 0.18407013 0.18146525 0.18169067 0.17873513\n",
      " 0.17715717 0.18827802 0.18249217 0.17051972 0.16320601 0.16363181\n",
      " 0.1636819  0.17092048 0.17204759 0.1636819  0.16588604 0.15769568\n",
      " 0.14875391 0.14444584 0.13918597 0.13720726 0.13259862 0.1323732\n",
      " 0.13119599 0.15902317 0.17016907 0.16974327 0.17282405 0.16546024\n",
      " 0.1529104  0.15640759 0.15812883 0.15865181]\n",
      "4 day output [[0.15848078]]\n",
      "5 day input [0.09164684 0.0977082  0.10016281 0.10038823 0.09650595 0.0878397\n",
      " 0.09014402 0.08681277 0.08969317 0.08090169 0.08583594 0.08806512\n",
      " 0.09129618 0.09031935 0.09009393 0.08683782 0.085335   0.09247339\n",
      " 0.09517846 0.09946149 0.10499687 0.10624922 0.10680025 0.10482154\n",
      " 0.10469631 0.1063995  0.10522229 0.11453976 0.10760175 0.10549781\n",
      " 0.10815279 0.11183469 0.1105072  0.1113087  0.10920476 0.1101315\n",
      " 0.10289292 0.10276769 0.10807765 0.10810269 0.11060739 0.11684408\n",
      " 0.12781465 0.13452724 0.13570445 0.13668128 0.13800877 0.12515967\n",
      " 0.13375078 0.14642455 0.14509706 0.14256731 0.1377583  0.14647464\n",
      " 0.16115216 0.17092048 0.16961803 0.181866   0.17257358 0.16904195\n",
      " 0.18149029 0.16385723 0.16105197 0.15757044 0.16568566 0.17232311\n",
      " 0.17392611 0.18407013 0.18146525 0.18169067 0.17873513 0.17715717\n",
      " 0.18827802 0.18249217 0.17051972 0.16320601 0.16363181 0.1636819\n",
      " 0.17092048 0.17204759 0.1636819  0.16588604 0.15769568 0.14875391\n",
      " 0.14444584 0.13918597 0.13720726 0.13259862 0.1323732  0.13119599\n",
      " 0.15902317 0.17016907 0.16974327 0.17282405 0.16546024 0.1529104\n",
      " 0.15640759 0.15812883 0.15865181 0.15848078]\n",
      "5 day output [[0.15794893]]\n",
      "6 day input [0.0977082  0.10016281 0.10038823 0.09650595 0.0878397  0.09014402\n",
      " 0.08681277 0.08969317 0.08090169 0.08583594 0.08806512 0.09129618\n",
      " 0.09031935 0.09009393 0.08683782 0.085335   0.09247339 0.09517846\n",
      " 0.09946149 0.10499687 0.10624922 0.10680025 0.10482154 0.10469631\n",
      " 0.1063995  0.10522229 0.11453976 0.10760175 0.10549781 0.10815279\n",
      " 0.11183469 0.1105072  0.1113087  0.10920476 0.1101315  0.10289292\n",
      " 0.10276769 0.10807765 0.10810269 0.11060739 0.11684408 0.12781465\n",
      " 0.13452724 0.13570445 0.13668128 0.13800877 0.12515967 0.13375078\n",
      " 0.14642455 0.14509706 0.14256731 0.1377583  0.14647464 0.16115216\n",
      " 0.17092048 0.16961803 0.181866   0.17257358 0.16904195 0.18149029\n",
      " 0.16385723 0.16105197 0.15757044 0.16568566 0.17232311 0.17392611\n",
      " 0.18407013 0.18146525 0.18169067 0.17873513 0.17715717 0.18827802\n",
      " 0.18249217 0.17051972 0.16320601 0.16363181 0.1636819  0.17092048\n",
      " 0.17204759 0.1636819  0.16588604 0.15769568 0.14875391 0.14444584\n",
      " 0.13918597 0.13720726 0.13259862 0.1323732  0.13119599 0.15902317\n",
      " 0.17016907 0.16974327 0.17282405 0.16546024 0.1529104  0.15640759\n",
      " 0.15812883 0.15865181 0.15848078 0.15794893]\n",
      "6 day output [[0.15724307]]\n",
      "7 day input [0.10016281 0.10038823 0.09650595 0.0878397  0.09014402 0.08681277\n",
      " 0.08969317 0.08090169 0.08583594 0.08806512 0.09129618 0.09031935\n",
      " 0.09009393 0.08683782 0.085335   0.09247339 0.09517846 0.09946149\n",
      " 0.10499687 0.10624922 0.10680025 0.10482154 0.10469631 0.1063995\n",
      " 0.10522229 0.11453976 0.10760175 0.10549781 0.10815279 0.11183469\n",
      " 0.1105072  0.1113087  0.10920476 0.1101315  0.10289292 0.10276769\n",
      " 0.10807765 0.10810269 0.11060739 0.11684408 0.12781465 0.13452724\n",
      " 0.13570445 0.13668128 0.13800877 0.12515967 0.13375078 0.14642455\n",
      " 0.14509706 0.14256731 0.1377583  0.14647464 0.16115216 0.17092048\n",
      " 0.16961803 0.181866   0.17257358 0.16904195 0.18149029 0.16385723\n",
      " 0.16105197 0.15757044 0.16568566 0.17232311 0.17392611 0.18407013\n",
      " 0.18146525 0.18169067 0.17873513 0.17715717 0.18827802 0.18249217\n",
      " 0.17051972 0.16320601 0.16363181 0.1636819  0.17092048 0.17204759\n",
      " 0.1636819  0.16588604 0.15769568 0.14875391 0.14444584 0.13918597\n",
      " 0.13720726 0.13259862 0.1323732  0.13119599 0.15902317 0.17016907\n",
      " 0.16974327 0.17282405 0.16546024 0.1529104  0.15640759 0.15812883\n",
      " 0.15865181 0.15848078 0.15794893 0.15724307]\n",
      "7 day output [[0.15645532]]\n",
      "8 day input [0.10038823 0.09650595 0.0878397  0.09014402 0.08681277 0.08969317\n",
      " 0.08090169 0.08583594 0.08806512 0.09129618 0.09031935 0.09009393\n",
      " 0.08683782 0.085335   0.09247339 0.09517846 0.09946149 0.10499687\n",
      " 0.10624922 0.10680025 0.10482154 0.10469631 0.1063995  0.10522229\n",
      " 0.11453976 0.10760175 0.10549781 0.10815279 0.11183469 0.1105072\n",
      " 0.1113087  0.10920476 0.1101315  0.10289292 0.10276769 0.10807765\n",
      " 0.10810269 0.11060739 0.11684408 0.12781465 0.13452724 0.13570445\n",
      " 0.13668128 0.13800877 0.12515967 0.13375078 0.14642455 0.14509706\n",
      " 0.14256731 0.1377583  0.14647464 0.16115216 0.17092048 0.16961803\n",
      " 0.181866   0.17257358 0.16904195 0.18149029 0.16385723 0.16105197\n",
      " 0.15757044 0.16568566 0.17232311 0.17392611 0.18407013 0.18146525\n",
      " 0.18169067 0.17873513 0.17715717 0.18827802 0.18249217 0.17051972\n",
      " 0.16320601 0.16363181 0.1636819  0.17092048 0.17204759 0.1636819\n",
      " 0.16588604 0.15769568 0.14875391 0.14444584 0.13918597 0.13720726\n",
      " 0.13259862 0.1323732  0.13119599 0.15902317 0.17016907 0.16974327\n",
      " 0.17282405 0.16546024 0.1529104  0.15640759 0.15812883 0.15865181\n",
      " 0.15848078 0.15794893 0.15724307 0.15645532]\n",
      "8 day output [[0.15562594]]\n",
      "9 day input [0.09650595 0.0878397  0.09014402 0.08681277 0.08969317 0.08090169\n",
      " 0.08583594 0.08806512 0.09129618 0.09031935 0.09009393 0.08683782\n",
      " 0.085335   0.09247339 0.09517846 0.09946149 0.10499687 0.10624922\n",
      " 0.10680025 0.10482154 0.10469631 0.1063995  0.10522229 0.11453976\n",
      " 0.10760175 0.10549781 0.10815279 0.11183469 0.1105072  0.1113087\n",
      " 0.10920476 0.1101315  0.10289292 0.10276769 0.10807765 0.10810269\n",
      " 0.11060739 0.11684408 0.12781465 0.13452724 0.13570445 0.13668128\n",
      " 0.13800877 0.12515967 0.13375078 0.14642455 0.14509706 0.14256731\n",
      " 0.1377583  0.14647464 0.16115216 0.17092048 0.16961803 0.181866\n",
      " 0.17257358 0.16904195 0.18149029 0.16385723 0.16105197 0.15757044\n",
      " 0.16568566 0.17232311 0.17392611 0.18407013 0.18146525 0.18169067\n",
      " 0.17873513 0.17715717 0.18827802 0.18249217 0.17051972 0.16320601\n",
      " 0.16363181 0.1636819  0.17092048 0.17204759 0.1636819  0.16588604\n",
      " 0.15769568 0.14875391 0.14444584 0.13918597 0.13720726 0.13259862\n",
      " 0.1323732  0.13119599 0.15902317 0.17016907 0.16974327 0.17282405\n",
      " 0.16546024 0.1529104  0.15640759 0.15812883 0.15865181 0.15848078\n",
      " 0.15794893 0.15724307 0.15645532 0.15562594]\n",
      "9 day output [[0.1547713]]\n",
      "10 day input [0.0878397  0.09014402 0.08681277 0.08969317 0.08090169 0.08583594\n",
      " 0.08806512 0.09129618 0.09031935 0.09009393 0.08683782 0.085335\n",
      " 0.09247339 0.09517846 0.09946149 0.10499687 0.10624922 0.10680025\n",
      " 0.10482154 0.10469631 0.1063995  0.10522229 0.11453976 0.10760175\n",
      " 0.10549781 0.10815279 0.11183469 0.1105072  0.1113087  0.10920476\n",
      " 0.1101315  0.10289292 0.10276769 0.10807765 0.10810269 0.11060739\n",
      " 0.11684408 0.12781465 0.13452724 0.13570445 0.13668128 0.13800877\n",
      " 0.12515967 0.13375078 0.14642455 0.14509706 0.14256731 0.1377583\n",
      " 0.14647464 0.16115216 0.17092048 0.16961803 0.181866   0.17257358\n",
      " 0.16904195 0.18149029 0.16385723 0.16105197 0.15757044 0.16568566\n",
      " 0.17232311 0.17392611 0.18407013 0.18146525 0.18169067 0.17873513\n",
      " 0.17715717 0.18827802 0.18249217 0.17051972 0.16320601 0.16363181\n",
      " 0.1636819  0.17092048 0.17204759 0.1636819  0.16588604 0.15769568\n",
      " 0.14875391 0.14444584 0.13918597 0.13720726 0.13259862 0.1323732\n",
      " 0.13119599 0.15902317 0.17016907 0.16974327 0.17282405 0.16546024\n",
      " 0.1529104  0.15640759 0.15812883 0.15865181 0.15848078 0.15794893\n",
      " 0.15724307 0.15645532 0.15562594 0.1547713 ]\n",
      "10 day output [[0.15389825]]\n",
      "11 day input [0.09014402 0.08681277 0.08969317 0.08090169 0.08583594 0.08806512\n",
      " 0.09129618 0.09031935 0.09009393 0.08683782 0.085335   0.09247339\n",
      " 0.09517846 0.09946149 0.10499687 0.10624922 0.10680025 0.10482154\n",
      " 0.10469631 0.1063995  0.10522229 0.11453976 0.10760175 0.10549781\n",
      " 0.10815279 0.11183469 0.1105072  0.1113087  0.10920476 0.1101315\n",
      " 0.10289292 0.10276769 0.10807765 0.10810269 0.11060739 0.11684408\n",
      " 0.12781465 0.13452724 0.13570445 0.13668128 0.13800877 0.12515967\n",
      " 0.13375078 0.14642455 0.14509706 0.14256731 0.1377583  0.14647464\n",
      " 0.16115216 0.17092048 0.16961803 0.181866   0.17257358 0.16904195\n",
      " 0.18149029 0.16385723 0.16105197 0.15757044 0.16568566 0.17232311\n",
      " 0.17392611 0.18407013 0.18146525 0.18169067 0.17873513 0.17715717\n",
      " 0.18827802 0.18249217 0.17051972 0.16320601 0.16363181 0.1636819\n",
      " 0.17092048 0.17204759 0.1636819  0.16588604 0.15769568 0.14875391\n",
      " 0.14444584 0.13918597 0.13720726 0.13259862 0.1323732  0.13119599\n",
      " 0.15902317 0.17016907 0.16974327 0.17282405 0.16546024 0.1529104\n",
      " 0.15640759 0.15812883 0.15865181 0.15848078 0.15794893 0.15724307\n",
      " 0.15645532 0.15562594 0.1547713  0.15389825]\n"
     ]
    },
    {
     "name": "stdout",
     "output_type": "stream",
     "text": [
      "11 day output [[0.153011]]\n",
      "12 day input [0.08681277 0.08969317 0.08090169 0.08583594 0.08806512 0.09129618\n",
      " 0.09031935 0.09009393 0.08683782 0.085335   0.09247339 0.09517846\n",
      " 0.09946149 0.10499687 0.10624922 0.10680025 0.10482154 0.10469631\n",
      " 0.1063995  0.10522229 0.11453976 0.10760175 0.10549781 0.10815279\n",
      " 0.11183469 0.1105072  0.1113087  0.10920476 0.1101315  0.10289292\n",
      " 0.10276769 0.10807765 0.10810269 0.11060739 0.11684408 0.12781465\n",
      " 0.13452724 0.13570445 0.13668128 0.13800877 0.12515967 0.13375078\n",
      " 0.14642455 0.14509706 0.14256731 0.1377583  0.14647464 0.16115216\n",
      " 0.17092048 0.16961803 0.181866   0.17257358 0.16904195 0.18149029\n",
      " 0.16385723 0.16105197 0.15757044 0.16568566 0.17232311 0.17392611\n",
      " 0.18407013 0.18146525 0.18169067 0.17873513 0.17715717 0.18827802\n",
      " 0.18249217 0.17051972 0.16320601 0.16363181 0.1636819  0.17092048\n",
      " 0.17204759 0.1636819  0.16588604 0.15769568 0.14875391 0.14444584\n",
      " 0.13918597 0.13720726 0.13259862 0.1323732  0.13119599 0.15902317\n",
      " 0.17016907 0.16974327 0.17282405 0.16546024 0.1529104  0.15640759\n",
      " 0.15812883 0.15865181 0.15848078 0.15794893 0.15724307 0.15645532\n",
      " 0.15562594 0.1547713  0.15389825 0.15301099]\n",
      "12 day output [[0.15211345]]\n",
      "13 day input [0.08969317 0.08090169 0.08583594 0.08806512 0.09129618 0.09031935\n",
      " 0.09009393 0.08683782 0.085335   0.09247339 0.09517846 0.09946149\n",
      " 0.10499687 0.10624922 0.10680025 0.10482154 0.10469631 0.1063995\n",
      " 0.10522229 0.11453976 0.10760175 0.10549781 0.10815279 0.11183469\n",
      " 0.1105072  0.1113087  0.10920476 0.1101315  0.10289292 0.10276769\n",
      " 0.10807765 0.10810269 0.11060739 0.11684408 0.12781465 0.13452724\n",
      " 0.13570445 0.13668128 0.13800877 0.12515967 0.13375078 0.14642455\n",
      " 0.14509706 0.14256731 0.1377583  0.14647464 0.16115216 0.17092048\n",
      " 0.16961803 0.181866   0.17257358 0.16904195 0.18149029 0.16385723\n",
      " 0.16105197 0.15757044 0.16568566 0.17232311 0.17392611 0.18407013\n",
      " 0.18146525 0.18169067 0.17873513 0.17715717 0.18827802 0.18249217\n",
      " 0.17051972 0.16320601 0.16363181 0.1636819  0.17092048 0.17204759\n",
      " 0.1636819  0.16588604 0.15769568 0.14875391 0.14444584 0.13918597\n",
      " 0.13720726 0.13259862 0.1323732  0.13119599 0.15902317 0.17016907\n",
      " 0.16974327 0.17282405 0.16546024 0.1529104  0.15640759 0.15812883\n",
      " 0.15865181 0.15848078 0.15794893 0.15724307 0.15645532 0.15562594\n",
      " 0.1547713  0.15389825 0.15301099 0.15211345]\n",
      "13 day output [[0.15120988]]\n",
      "14 day input [0.08090169 0.08583594 0.08806512 0.09129618 0.09031935 0.09009393\n",
      " 0.08683782 0.085335   0.09247339 0.09517846 0.09946149 0.10499687\n",
      " 0.10624922 0.10680025 0.10482154 0.10469631 0.1063995  0.10522229\n",
      " 0.11453976 0.10760175 0.10549781 0.10815279 0.11183469 0.1105072\n",
      " 0.1113087  0.10920476 0.1101315  0.10289292 0.10276769 0.10807765\n",
      " 0.10810269 0.11060739 0.11684408 0.12781465 0.13452724 0.13570445\n",
      " 0.13668128 0.13800877 0.12515967 0.13375078 0.14642455 0.14509706\n",
      " 0.14256731 0.1377583  0.14647464 0.16115216 0.17092048 0.16961803\n",
      " 0.181866   0.17257358 0.16904195 0.18149029 0.16385723 0.16105197\n",
      " 0.15757044 0.16568566 0.17232311 0.17392611 0.18407013 0.18146525\n",
      " 0.18169067 0.17873513 0.17715717 0.18827802 0.18249217 0.17051972\n",
      " 0.16320601 0.16363181 0.1636819  0.17092048 0.17204759 0.1636819\n",
      " 0.16588604 0.15769568 0.14875391 0.14444584 0.13918597 0.13720726\n",
      " 0.13259862 0.1323732  0.13119599 0.15902317 0.17016907 0.16974327\n",
      " 0.17282405 0.16546024 0.1529104  0.15640759 0.15812883 0.15865181\n",
      " 0.15848078 0.15794893 0.15724307 0.15645532 0.15562594 0.1547713\n",
      " 0.15389825 0.15301099 0.15211345 0.15120988]\n",
      "14 day output [[0.15030424]]\n",
      "15 day input [0.08583594 0.08806512 0.09129618 0.09031935 0.09009393 0.08683782\n",
      " 0.085335   0.09247339 0.09517846 0.09946149 0.10499687 0.10624922\n",
      " 0.10680025 0.10482154 0.10469631 0.1063995  0.10522229 0.11453976\n",
      " 0.10760175 0.10549781 0.10815279 0.11183469 0.1105072  0.1113087\n",
      " 0.10920476 0.1101315  0.10289292 0.10276769 0.10807765 0.10810269\n",
      " 0.11060739 0.11684408 0.12781465 0.13452724 0.13570445 0.13668128\n",
      " 0.13800877 0.12515967 0.13375078 0.14642455 0.14509706 0.14256731\n",
      " 0.1377583  0.14647464 0.16115216 0.17092048 0.16961803 0.181866\n",
      " 0.17257358 0.16904195 0.18149029 0.16385723 0.16105197 0.15757044\n",
      " 0.16568566 0.17232311 0.17392611 0.18407013 0.18146525 0.18169067\n",
      " 0.17873513 0.17715717 0.18827802 0.18249217 0.17051972 0.16320601\n",
      " 0.16363181 0.1636819  0.17092048 0.17204759 0.1636819  0.16588604\n",
      " 0.15769568 0.14875391 0.14444584 0.13918597 0.13720726 0.13259862\n",
      " 0.1323732  0.13119599 0.15902317 0.17016907 0.16974327 0.17282405\n",
      " 0.16546024 0.1529104  0.15640759 0.15812883 0.15865181 0.15848078\n",
      " 0.15794893 0.15724307 0.15645532 0.15562594 0.1547713  0.15389825\n",
      " 0.15301099 0.15211345 0.15120988 0.15030424]\n",
      "15 day output [[0.14940062]]\n",
      "16 day input [0.08806512 0.09129618 0.09031935 0.09009393 0.08683782 0.085335\n",
      " 0.09247339 0.09517846 0.09946149 0.10499687 0.10624922 0.10680025\n",
      " 0.10482154 0.10469631 0.1063995  0.10522229 0.11453976 0.10760175\n",
      " 0.10549781 0.10815279 0.11183469 0.1105072  0.1113087  0.10920476\n",
      " 0.1101315  0.10289292 0.10276769 0.10807765 0.10810269 0.11060739\n",
      " 0.11684408 0.12781465 0.13452724 0.13570445 0.13668128 0.13800877\n",
      " 0.12515967 0.13375078 0.14642455 0.14509706 0.14256731 0.1377583\n",
      " 0.14647464 0.16115216 0.17092048 0.16961803 0.181866   0.17257358\n",
      " 0.16904195 0.18149029 0.16385723 0.16105197 0.15757044 0.16568566\n",
      " 0.17232311 0.17392611 0.18407013 0.18146525 0.18169067 0.17873513\n",
      " 0.17715717 0.18827802 0.18249217 0.17051972 0.16320601 0.16363181\n",
      " 0.1636819  0.17092048 0.17204759 0.1636819  0.16588604 0.15769568\n",
      " 0.14875391 0.14444584 0.13918597 0.13720726 0.13259862 0.1323732\n",
      " 0.13119599 0.15902317 0.17016907 0.16974327 0.17282405 0.16546024\n",
      " 0.1529104  0.15640759 0.15812883 0.15865181 0.15848078 0.15794893\n",
      " 0.15724307 0.15645532 0.15562594 0.1547713  0.15389825 0.15301099\n",
      " 0.15211345 0.15120988 0.15030424 0.14940062]\n",
      "16 day output [[0.14850248]]\n",
      "17 day input [0.09129618 0.09031935 0.09009393 0.08683782 0.085335   0.09247339\n",
      " 0.09517846 0.09946149 0.10499687 0.10624922 0.10680025 0.10482154\n",
      " 0.10469631 0.1063995  0.10522229 0.11453976 0.10760175 0.10549781\n",
      " 0.10815279 0.11183469 0.1105072  0.1113087  0.10920476 0.1101315\n",
      " 0.10289292 0.10276769 0.10807765 0.10810269 0.11060739 0.11684408\n",
      " 0.12781465 0.13452724 0.13570445 0.13668128 0.13800877 0.12515967\n",
      " 0.13375078 0.14642455 0.14509706 0.14256731 0.1377583  0.14647464\n",
      " 0.16115216 0.17092048 0.16961803 0.181866   0.17257358 0.16904195\n",
      " 0.18149029 0.16385723 0.16105197 0.15757044 0.16568566 0.17232311\n",
      " 0.17392611 0.18407013 0.18146525 0.18169067 0.17873513 0.17715717\n",
      " 0.18827802 0.18249217 0.17051972 0.16320601 0.16363181 0.1636819\n",
      " 0.17092048 0.17204759 0.1636819  0.16588604 0.15769568 0.14875391\n",
      " 0.14444584 0.13918597 0.13720726 0.13259862 0.1323732  0.13119599\n",
      " 0.15902317 0.17016907 0.16974327 0.17282405 0.16546024 0.1529104\n",
      " 0.15640759 0.15812883 0.15865181 0.15848078 0.15794893 0.15724307\n",
      " 0.15645532 0.15562594 0.1547713  0.15389825 0.15301099 0.15211345\n",
      " 0.15120988 0.15030424 0.14940062 0.14850248]\n",
      "17 day output [[0.14761281]]\n",
      "18 day input [0.09031935 0.09009393 0.08683782 0.085335   0.09247339 0.09517846\n",
      " 0.09946149 0.10499687 0.10624922 0.10680025 0.10482154 0.10469631\n",
      " 0.1063995  0.10522229 0.11453976 0.10760175 0.10549781 0.10815279\n",
      " 0.11183469 0.1105072  0.1113087  0.10920476 0.1101315  0.10289292\n",
      " 0.10276769 0.10807765 0.10810269 0.11060739 0.11684408 0.12781465\n",
      " 0.13452724 0.13570445 0.13668128 0.13800877 0.12515967 0.13375078\n",
      " 0.14642455 0.14509706 0.14256731 0.1377583  0.14647464 0.16115216\n",
      " 0.17092048 0.16961803 0.181866   0.17257358 0.16904195 0.18149029\n",
      " 0.16385723 0.16105197 0.15757044 0.16568566 0.17232311 0.17392611\n",
      " 0.18407013 0.18146525 0.18169067 0.17873513 0.17715717 0.18827802\n",
      " 0.18249217 0.17051972 0.16320601 0.16363181 0.1636819  0.17092048\n",
      " 0.17204759 0.1636819  0.16588604 0.15769568 0.14875391 0.14444584\n",
      " 0.13918597 0.13720726 0.13259862 0.1323732  0.13119599 0.15902317\n",
      " 0.17016907 0.16974327 0.17282405 0.16546024 0.1529104  0.15640759\n",
      " 0.15812883 0.15865181 0.15848078 0.15794893 0.15724307 0.15645532\n",
      " 0.15562594 0.1547713  0.15389825 0.15301099 0.15211345 0.15120988\n",
      " 0.15030424 0.14940062 0.14850248 0.14761281]\n",
      "18 day output [[0.14673412]]\n",
      "19 day input [0.09009393 0.08683782 0.085335   0.09247339 0.09517846 0.09946149\n",
      " 0.10499687 0.10624922 0.10680025 0.10482154 0.10469631 0.1063995\n",
      " 0.10522229 0.11453976 0.10760175 0.10549781 0.10815279 0.11183469\n",
      " 0.1105072  0.1113087  0.10920476 0.1101315  0.10289292 0.10276769\n",
      " 0.10807765 0.10810269 0.11060739 0.11684408 0.12781465 0.13452724\n",
      " 0.13570445 0.13668128 0.13800877 0.12515967 0.13375078 0.14642455\n",
      " 0.14509706 0.14256731 0.1377583  0.14647464 0.16115216 0.17092048\n",
      " 0.16961803 0.181866   0.17257358 0.16904195 0.18149029 0.16385723\n",
      " 0.16105197 0.15757044 0.16568566 0.17232311 0.17392611 0.18407013\n",
      " 0.18146525 0.18169067 0.17873513 0.17715717 0.18827802 0.18249217\n",
      " 0.17051972 0.16320601 0.16363181 0.1636819  0.17092048 0.17204759\n",
      " 0.1636819  0.16588604 0.15769568 0.14875391 0.14444584 0.13918597\n",
      " 0.13720726 0.13259862 0.1323732  0.13119599 0.15902317 0.17016907\n",
      " 0.16974327 0.17282405 0.16546024 0.1529104  0.15640759 0.15812883\n",
      " 0.15865181 0.15848078 0.15794893 0.15724307 0.15645532 0.15562594\n",
      " 0.1547713  0.15389825 0.15301099 0.15211345 0.15120988 0.15030424\n"
     ]
    },
    {
     "name": "stdout",
     "output_type": "stream",
     "text": [
      " 0.14940062 0.14850248 0.14761281 0.14673412]\n",
      "19 day output [[0.1458683]]\n",
      "20 day input [0.08683782 0.085335   0.09247339 0.09517846 0.09946149 0.10499687\n",
      " 0.10624922 0.10680025 0.10482154 0.10469631 0.1063995  0.10522229\n",
      " 0.11453976 0.10760175 0.10549781 0.10815279 0.11183469 0.1105072\n",
      " 0.1113087  0.10920476 0.1101315  0.10289292 0.10276769 0.10807765\n",
      " 0.10810269 0.11060739 0.11684408 0.12781465 0.13452724 0.13570445\n",
      " 0.13668128 0.13800877 0.12515967 0.13375078 0.14642455 0.14509706\n",
      " 0.14256731 0.1377583  0.14647464 0.16115216 0.17092048 0.16961803\n",
      " 0.181866   0.17257358 0.16904195 0.18149029 0.16385723 0.16105197\n",
      " 0.15757044 0.16568566 0.17232311 0.17392611 0.18407013 0.18146525\n",
      " 0.18169067 0.17873513 0.17715717 0.18827802 0.18249217 0.17051972\n",
      " 0.16320601 0.16363181 0.1636819  0.17092048 0.17204759 0.1636819\n",
      " 0.16588604 0.15769568 0.14875391 0.14444584 0.13918597 0.13720726\n",
      " 0.13259862 0.1323732  0.13119599 0.15902317 0.17016907 0.16974327\n",
      " 0.17282405 0.16546024 0.1529104  0.15640759 0.15812883 0.15865181\n",
      " 0.15848078 0.15794893 0.15724307 0.15645532 0.15562594 0.1547713\n",
      " 0.15389825 0.15301099 0.15211345 0.15120988 0.15030424 0.14940062\n",
      " 0.14850248 0.14761281 0.14673412 0.1458683 ]\n",
      "20 day output [[0.14501695]]\n",
      "21 day input [0.085335   0.09247339 0.09517846 0.09946149 0.10499687 0.10624922\n",
      " 0.10680025 0.10482154 0.10469631 0.1063995  0.10522229 0.11453976\n",
      " 0.10760175 0.10549781 0.10815279 0.11183469 0.1105072  0.1113087\n",
      " 0.10920476 0.1101315  0.10289292 0.10276769 0.10807765 0.10810269\n",
      " 0.11060739 0.11684408 0.12781465 0.13452724 0.13570445 0.13668128\n",
      " 0.13800877 0.12515967 0.13375078 0.14642455 0.14509706 0.14256731\n",
      " 0.1377583  0.14647464 0.16115216 0.17092048 0.16961803 0.181866\n",
      " 0.17257358 0.16904195 0.18149029 0.16385723 0.16105197 0.15757044\n",
      " 0.16568566 0.17232311 0.17392611 0.18407013 0.18146525 0.18169067\n",
      " 0.17873513 0.17715717 0.18827802 0.18249217 0.17051972 0.16320601\n",
      " 0.16363181 0.1636819  0.17092048 0.17204759 0.1636819  0.16588604\n",
      " 0.15769568 0.14875391 0.14444584 0.13918597 0.13720726 0.13259862\n",
      " 0.1323732  0.13119599 0.15902317 0.17016907 0.16974327 0.17282405\n",
      " 0.16546024 0.1529104  0.15640759 0.15812883 0.15865181 0.15848078\n",
      " 0.15794893 0.15724307 0.15645532 0.15562594 0.1547713  0.15389825\n",
      " 0.15301099 0.15211345 0.15120988 0.15030424 0.14940062 0.14850248\n",
      " 0.14761281 0.14673412 0.1458683  0.14501695]\n",
      "21 day output [[0.14418106]]\n",
      "22 day input [0.09247339 0.09517846 0.09946149 0.10499687 0.10624922 0.10680025\n",
      " 0.10482154 0.10469631 0.1063995  0.10522229 0.11453976 0.10760175\n",
      " 0.10549781 0.10815279 0.11183469 0.1105072  0.1113087  0.10920476\n",
      " 0.1101315  0.10289292 0.10276769 0.10807765 0.10810269 0.11060739\n",
      " 0.11684408 0.12781465 0.13452724 0.13570445 0.13668128 0.13800877\n",
      " 0.12515967 0.13375078 0.14642455 0.14509706 0.14256731 0.1377583\n",
      " 0.14647464 0.16115216 0.17092048 0.16961803 0.181866   0.17257358\n",
      " 0.16904195 0.18149029 0.16385723 0.16105197 0.15757044 0.16568566\n",
      " 0.17232311 0.17392611 0.18407013 0.18146525 0.18169067 0.17873513\n",
      " 0.17715717 0.18827802 0.18249217 0.17051972 0.16320601 0.16363181\n",
      " 0.1636819  0.17092048 0.17204759 0.1636819  0.16588604 0.15769568\n",
      " 0.14875391 0.14444584 0.13918597 0.13720726 0.13259862 0.1323732\n",
      " 0.13119599 0.15902317 0.17016907 0.16974327 0.17282405 0.16546024\n",
      " 0.1529104  0.15640759 0.15812883 0.15865181 0.15848078 0.15794893\n",
      " 0.15724307 0.15645532 0.15562594 0.1547713  0.15389825 0.15301099\n",
      " 0.15211345 0.15120988 0.15030424 0.14940062 0.14850248 0.14761281\n",
      " 0.14673412 0.1458683  0.14501695 0.14418106]\n",
      "22 day output [[0.14336145]]\n",
      "23 day input [0.09517846 0.09946149 0.10499687 0.10624922 0.10680025 0.10482154\n",
      " 0.10469631 0.1063995  0.10522229 0.11453976 0.10760175 0.10549781\n",
      " 0.10815279 0.11183469 0.1105072  0.1113087  0.10920476 0.1101315\n",
      " 0.10289292 0.10276769 0.10807765 0.10810269 0.11060739 0.11684408\n",
      " 0.12781465 0.13452724 0.13570445 0.13668128 0.13800877 0.12515967\n",
      " 0.13375078 0.14642455 0.14509706 0.14256731 0.1377583  0.14647464\n",
      " 0.16115216 0.17092048 0.16961803 0.181866   0.17257358 0.16904195\n",
      " 0.18149029 0.16385723 0.16105197 0.15757044 0.16568566 0.17232311\n",
      " 0.17392611 0.18407013 0.18146525 0.18169067 0.17873513 0.17715717\n",
      " 0.18827802 0.18249217 0.17051972 0.16320601 0.16363181 0.1636819\n",
      " 0.17092048 0.17204759 0.1636819  0.16588604 0.15769568 0.14875391\n",
      " 0.14444584 0.13918597 0.13720726 0.13259862 0.1323732  0.13119599\n",
      " 0.15902317 0.17016907 0.16974327 0.17282405 0.16546024 0.1529104\n",
      " 0.15640759 0.15812883 0.15865181 0.15848078 0.15794893 0.15724307\n",
      " 0.15645532 0.15562594 0.1547713  0.15389825 0.15301099 0.15211345\n",
      " 0.15120988 0.15030424 0.14940062 0.14850248 0.14761281 0.14673412\n",
      " 0.1458683  0.14501695 0.14418106 0.14336145]\n",
      "23 day output [[0.14255854]]\n",
      "24 day input [0.09946149 0.10499687 0.10624922 0.10680025 0.10482154 0.10469631\n",
      " 0.1063995  0.10522229 0.11453976 0.10760175 0.10549781 0.10815279\n",
      " 0.11183469 0.1105072  0.1113087  0.10920476 0.1101315  0.10289292\n",
      " 0.10276769 0.10807765 0.10810269 0.11060739 0.11684408 0.12781465\n",
      " 0.13452724 0.13570445 0.13668128 0.13800877 0.12515967 0.13375078\n",
      " 0.14642455 0.14509706 0.14256731 0.1377583  0.14647464 0.16115216\n",
      " 0.17092048 0.16961803 0.181866   0.17257358 0.16904195 0.18149029\n",
      " 0.16385723 0.16105197 0.15757044 0.16568566 0.17232311 0.17392611\n",
      " 0.18407013 0.18146525 0.18169067 0.17873513 0.17715717 0.18827802\n",
      " 0.18249217 0.17051972 0.16320601 0.16363181 0.1636819  0.17092048\n",
      " 0.17204759 0.1636819  0.16588604 0.15769568 0.14875391 0.14444584\n",
      " 0.13918597 0.13720726 0.13259862 0.1323732  0.13119599 0.15902317\n",
      " 0.17016907 0.16974327 0.17282405 0.16546024 0.1529104  0.15640759\n",
      " 0.15812883 0.15865181 0.15848078 0.15794893 0.15724307 0.15645532\n",
      " 0.15562594 0.1547713  0.15389825 0.15301099 0.15211345 0.15120988\n",
      " 0.15030424 0.14940062 0.14850248 0.14761281 0.14673412 0.1458683\n",
      " 0.14501695 0.14418106 0.14336145 0.14255854]\n",
      "24 day output [[0.14177255]]\n",
      "25 day input [0.10499687 0.10624922 0.10680025 0.10482154 0.10469631 0.1063995\n",
      " 0.10522229 0.11453976 0.10760175 0.10549781 0.10815279 0.11183469\n",
      " 0.1105072  0.1113087  0.10920476 0.1101315  0.10289292 0.10276769\n",
      " 0.10807765 0.10810269 0.11060739 0.11684408 0.12781465 0.13452724\n",
      " 0.13570445 0.13668128 0.13800877 0.12515967 0.13375078 0.14642455\n",
      " 0.14509706 0.14256731 0.1377583  0.14647464 0.16115216 0.17092048\n",
      " 0.16961803 0.181866   0.17257358 0.16904195 0.18149029 0.16385723\n",
      " 0.16105197 0.15757044 0.16568566 0.17232311 0.17392611 0.18407013\n",
      " 0.18146525 0.18169067 0.17873513 0.17715717 0.18827802 0.18249217\n",
      " 0.17051972 0.16320601 0.16363181 0.1636819  0.17092048 0.17204759\n",
      " 0.1636819  0.16588604 0.15769568 0.14875391 0.14444584 0.13918597\n",
      " 0.13720726 0.13259862 0.1323732  0.13119599 0.15902317 0.17016907\n",
      " 0.16974327 0.17282405 0.16546024 0.1529104  0.15640759 0.15812883\n",
      " 0.15865181 0.15848078 0.15794893 0.15724307 0.15645532 0.15562594\n",
      " 0.1547713  0.15389825 0.15301099 0.15211345 0.15120988 0.15030424\n",
      " 0.14940062 0.14850248 0.14761281 0.14673412 0.1458683  0.14501695\n",
      " 0.14418106 0.14336145 0.14255854 0.14177255]\n",
      "25 day output [[0.14100349]]\n",
      "26 day input [0.10624922 0.10680025 0.10482154 0.10469631 0.1063995  0.10522229\n",
      " 0.11453976 0.10760175 0.10549781 0.10815279 0.11183469 0.1105072\n",
      " 0.1113087  0.10920476 0.1101315  0.10289292 0.10276769 0.10807765\n",
      " 0.10810269 0.11060739 0.11684408 0.12781465 0.13452724 0.13570445\n",
      " 0.13668128 0.13800877 0.12515967 0.13375078 0.14642455 0.14509706\n",
      " 0.14256731 0.1377583  0.14647464 0.16115216 0.17092048 0.16961803\n",
      " 0.181866   0.17257358 0.16904195 0.18149029 0.16385723 0.16105197\n",
      " 0.15757044 0.16568566 0.17232311 0.17392611 0.18407013 0.18146525\n",
      " 0.18169067 0.17873513 0.17715717 0.18827802 0.18249217 0.17051972\n",
      " 0.16320601 0.16363181 0.1636819  0.17092048 0.17204759 0.1636819\n",
      " 0.16588604 0.15769568 0.14875391 0.14444584 0.13918597 0.13720726\n",
      " 0.13259862 0.1323732  0.13119599 0.15902317 0.17016907 0.16974327\n",
      " 0.17282405 0.16546024 0.1529104  0.15640759 0.15812883 0.15865181\n",
      " 0.15848078 0.15794893 0.15724307 0.15645532 0.15562594 0.1547713\n",
      " 0.15389825 0.15301099 0.15211345 0.15120988 0.15030424 0.14940062\n",
      " 0.14850248 0.14761281 0.14673412 0.1458683  0.14501695 0.14418106\n",
      " 0.14336145 0.14255854 0.14177255 0.14100349]\n",
      "26 day output [[0.14025113]]\n",
      "27 day input [0.10680025 0.10482154 0.10469631 0.1063995  0.10522229 0.11453976\n",
      " 0.10760175 0.10549781 0.10815279 0.11183469 0.1105072  0.1113087\n",
      " 0.10920476 0.1101315  0.10289292 0.10276769 0.10807765 0.10810269\n",
      " 0.11060739 0.11684408 0.12781465 0.13452724 0.13570445 0.13668128\n",
      " 0.13800877 0.12515967 0.13375078 0.14642455 0.14509706 0.14256731\n",
      " 0.1377583  0.14647464 0.16115216 0.17092048 0.16961803 0.181866\n",
      " 0.17257358 0.16904195 0.18149029 0.16385723 0.16105197 0.15757044\n",
      " 0.16568566 0.17232311 0.17392611 0.18407013 0.18146525 0.18169067\n",
      " 0.17873513 0.17715717 0.18827802 0.18249217 0.17051972 0.16320601\n",
      " 0.16363181 0.1636819  0.17092048 0.17204759 0.1636819  0.16588604\n",
      " 0.15769568 0.14875391 0.14444584 0.13918597 0.13720726 0.13259862\n",
      " 0.1323732  0.13119599 0.15902317 0.17016907 0.16974327 0.17282405\n",
      " 0.16546024 0.1529104  0.15640759 0.15812883 0.15865181 0.15848078\n",
      " 0.15794893 0.15724307 0.15645532 0.15562594 0.1547713  0.15389825\n",
      " 0.15301099 0.15211345 0.15120988 0.15030424 0.14940062 0.14850248\n",
      " 0.14761281 0.14673412 0.1458683  0.14501695 0.14418106 0.14336145\n",
      " 0.14255854 0.14177255 0.14100349 0.14025113]\n",
      "27 day output [[0.13951513]]\n",
      "28 day input [0.10482154 0.10469631 0.1063995  0.10522229 0.11453976 0.10760175\n",
      " 0.10549781 0.10815279 0.11183469 0.1105072  0.1113087  0.10920476\n",
      " 0.1101315  0.10289292 0.10276769 0.10807765 0.10810269 0.11060739\n",
      " 0.11684408 0.12781465 0.13452724 0.13570445 0.13668128 0.13800877\n",
      " 0.12515967 0.13375078 0.14642455 0.14509706 0.14256731 0.1377583\n",
      " 0.14647464 0.16115216 0.17092048 0.16961803 0.181866   0.17257358\n",
      " 0.16904195 0.18149029 0.16385723 0.16105197 0.15757044 0.16568566\n",
      " 0.17232311 0.17392611 0.18407013 0.18146525 0.18169067 0.17873513\n",
      " 0.17715717 0.18827802 0.18249217 0.17051972 0.16320601 0.16363181\n",
      " 0.1636819  0.17092048 0.17204759 0.1636819  0.16588604 0.15769568\n",
      " 0.14875391 0.14444584 0.13918597 0.13720726 0.13259862 0.1323732\n",
      " 0.13119599 0.15902317 0.17016907 0.16974327 0.17282405 0.16546024\n",
      " 0.1529104  0.15640759 0.15812883 0.15865181 0.15848078 0.15794893\n",
      " 0.15724307 0.15645532 0.15562594 0.1547713  0.15389825 0.15301099\n",
      " 0.15211345 0.15120988 0.15030424 0.14940062 0.14850248 0.14761281\n",
      " 0.14673412 0.1458683  0.14501695 0.14418106 0.14336145 0.14255854\n",
      " 0.14177255 0.14100349 0.14025113 0.13951513]\n",
      "28 day output [[0.13879517]]\n",
      "29 day input [0.10469631 0.1063995  0.10522229 0.11453976 0.10760175 0.10549781\n",
      " 0.10815279 0.11183469 0.1105072  0.1113087  0.10920476 0.1101315\n",
      " 0.10289292 0.10276769 0.10807765 0.10810269 0.11060739 0.11684408\n",
      " 0.12781465 0.13452724 0.13570445 0.13668128 0.13800877 0.12515967\n",
      " 0.13375078 0.14642455 0.14509706 0.14256731 0.1377583  0.14647464\n",
      " 0.16115216 0.17092048 0.16961803 0.181866   0.17257358 0.16904195\n",
      " 0.18149029 0.16385723 0.16105197 0.15757044 0.16568566 0.17232311\n",
      " 0.17392611 0.18407013 0.18146525 0.18169067 0.17873513 0.17715717\n",
      " 0.18827802 0.18249217 0.17051972 0.16320601 0.16363181 0.1636819\n",
      " 0.17092048 0.17204759 0.1636819  0.16588604 0.15769568 0.14875391\n",
      " 0.14444584 0.13918597 0.13720726 0.13259862 0.1323732  0.13119599\n",
      " 0.15902317 0.17016907 0.16974327 0.17282405 0.16546024 0.1529104\n",
      " 0.15640759 0.15812883 0.15865181 0.15848078 0.15794893 0.15724307\n",
      " 0.15645532 0.15562594 0.1547713  0.15389825 0.15301099 0.15211345\n",
      " 0.15120988 0.15030424 0.14940062 0.14850248 0.14761281 0.14673412\n",
      " 0.1458683  0.14501695 0.14418106 0.14336145 0.14255854 0.14177255\n",
      " 0.14100349 0.14025113 0.13951513 0.13879517]\n"
     ]
    },
    {
     "name": "stdout",
     "output_type": "stream",
     "text": [
      "29 day output [[0.13809064]]\n",
      "[[0.15291039645671844], [0.15640759468078613], [0.15812882781028748], [0.15865181386470795], [0.15848077833652496], [0.15794892609119415], [0.15724307298660278], [0.15645532310009003], [0.15562593936920166], [0.15477129817008972], [0.15389825403690338], [0.1530109941959381], [0.15211345255374908], [0.15120987594127655], [0.15030424296855927], [0.14940062165260315], [0.14850248396396637], [0.1476128101348877], [0.1467341184616089], [0.14586830139160156], [0.14501695334911346], [0.1441810578107834], [0.14336144924163818], [0.14255854487419128], [0.1417725533246994], [0.14100348949432373], [0.14025112986564636], [0.13951513171195984], [0.1387951672077179], [0.13809064030647278]]\n"
     ]
    }
   ],
   "source": [
    "# demonstrate prediction for next 10 days\n",
    "from numpy import array\n",
    "\n",
    "lst_output=[]\n",
    "n_steps=100\n",
    "i=0\n",
    "while(i<30):\n",
    "    \n",
    "    if(len(temp_input)>100):\n",
    "        #print(temp_input)\n",
    "        x_input=np.array(temp_input[1:])\n",
    "        print(\"{} day input {}\".format(i,x_input))\n",
    "        x_input=x_input.reshape(1,-1)\n",
    "        x_input = x_input.reshape((1, n_steps, 1))\n",
    "        #print(x_input)\n",
    "        yhat = model.predict(x_input, verbose=0)\n",
    "        print(\"{} day output {}\".format(i,yhat))\n",
    "        temp_input.extend(yhat[0].tolist())\n",
    "        temp_input=temp_input[1:]\n",
    "        #print(temp_input)\n",
    "        lst_output.extend(yhat.tolist())\n",
    "        i=i+1\n",
    "    else:\n",
    "        x_input = x_input.reshape((1, n_steps,1))\n",
    "        yhat = model.predict(x_input, verbose=0)\n",
    "        print(yhat[0])\n",
    "        temp_input.extend(yhat[0].tolist())\n",
    "        print(len(temp_input))\n",
    "        lst_output.extend(yhat.tolist())\n",
    "        i=i+1\n",
    "    \n",
    "\n",
    "print(lst_output)"
   ]
  },
  {
   "cell_type": "code",
   "execution_count": 53,
   "id": "28506811",
   "metadata": {},
   "outputs": [],
   "source": [
    "day_new=np.arange(1,101)\n",
    "day_pred=np.arange(101,131)"
   ]
  },
  {
   "cell_type": "code",
   "execution_count": 56,
   "id": "8917d572",
   "metadata": {},
   "outputs": [
    {
     "data": {
      "text/plain": [
       "[<matplotlib.lines.Line2D at 0x273384d0760>]"
      ]
     },
     "execution_count": 56,
     "metadata": {},
     "output_type": "execute_result"
    },
    {
     "data": {
      "image/png": "[encoded data removed]",
      "text/plain": [
       "<Figure size 432x288 with 1 Axes>"
      ]
     },
     "metadata": {
      "needs_background": "light"
     },
     "output_type": "display_data"
    }
   ],
   "source": [
    "plt.plot(day_new,scaler.inverse_transform(df1[1159:]))\n",
    "plt.plot(day_pred,scaler.inverse_transform(lst_output))"
   ]
  },
  {
   "cell_type": "code",
   "execution_count": 57,
   "id": "546950bb",
   "metadata": {},
   "outputs": [
    {
     "data": {
      "text/plain": [
       "[<matplotlib.lines.Line2D at 0x273396d0b80>]"
      ]
     },
     "execution_count": 57,
     "metadata": {},
     "output_type": "execute_result"
    },
    {
     "data": {
      "image/png": "[encoded data removed]",
      "text/plain": [
       "<Figure size 432x288 with 1 Axes>"
      ]
     },
     "metadata": {
      "needs_background": "light"
     },
     "output_type": "display_data"
    }
   ],
   "source": [
    "df3=df1.tolist()\n",
    "df3.extend(lst_output)\n",
    "plt.plot(df3[1200:])"
   ]
  },
  {
   "cell_type": "code",
   "execution_count": 58,
   "id": "e0d51547",
   "metadata": {},
   "outputs": [],
   "source": [
    "df3=scaler.inverse_transform(df3).tolist()"
   ]
  },
  {
   "cell_type": "code",
   "execution_count": 59,
   "id": "dd0c864e",
   "metadata": {},
   "outputs": [
    {
     "data": {
      "text/plain": [
       "[<matplotlib.lines.Line2D at 0x2733972b9d0>]"
      ]
     },
     "execution_count": 59,
     "metadata": {},
     "output_type": "execute_result"
    },
    {
     "data": {
      "image/png": "[encoded data removed]",
      "text/plain": [
       "<Figure size 432x288 with 1 Axes>"
      ]
     },
     "metadata": {
      "needs_background": "light"
     },
     "output_type": "display_data"
    }
   ],
   "source": [
    "plt.plot(df3)"
   ]
  },
  {
   "cell_type": "code",
   "execution_count": null,
   "id": "96ca21b8",
   "metadata": {},
   "outputs": [],
   "source": []
  }
 ],
 "metadata": {
  "kernelspec": {
   "display_name": "Python 3 (ipykernel)",
   "language": "python",
   "name": "python3"
  },
  "language_info": {
   "codemirror_mode": {
    "name": "ipython",
    "version": 3
   },
   "file_extension": ".py",
   "mimetype": "text/x-python",
   "name": "python",
   "nbconvert_exporter": "python",
   "pygments_lexer": "ipython3",
   "version": "3.9.7"
  }
 },
 "nbformat": 4,
 "nbformat_minor": 5
}
